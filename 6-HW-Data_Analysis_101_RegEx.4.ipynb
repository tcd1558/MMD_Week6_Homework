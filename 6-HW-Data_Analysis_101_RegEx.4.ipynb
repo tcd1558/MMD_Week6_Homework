{
 "cells": [
  {
   "cell_type": "markdown",
   "metadata": {},
   "source": [
    "### Question"
   ]
  },
  {
   "cell_type": "markdown",
   "metadata": {},
   "source": [
    "The text stream below is Relative Humidity measurement data around Lake Michigan recordded around January of 2020. Convert this data into the dataframe format in as minimal lines of code as possible."
   ]
  },
  {
   "cell_type": "markdown",
   "metadata": {},
   "source": [
    "<b>ID Year DOY UTC RelHum 7 2020 013 2354 77.8 7 2020 013 2356 77.2 7 2020 013 2358 77.2 7 2020 014 0000 77.7 7 2020 014 0002 77.6 7 2020 014 0004 77.4 7 2020 014 0006 77.8 7 2020 014 0008 78.5 7 2020 014 0010 78.8 7 2020 014 0012 78.9 7 2020 014 0014 79.1 7 2020 014 0016 79.2 7 2020 014 0018 79.2 7 2020 014 0020 78.2 7 2020 014 0022 77.9 7 2020 014 0024 78.2 7 2020 014 0026 77.8 7 2020 014 0028 77.6 7 2020 014 0030 78.0 7 2020 014 0032 78.5 7 2020 014 0034 78.9 7 2020 014 0036 79.0 7 2020 014 0038 78.7 7 2020 014 0040 78.5 7 2020 014 0042 78.5 7 2020 014 0044 78.1 7 2020 014 0046 78.1 7 2020 014 0048 78.4 7 2020 014 0050 78.8 7 2020 014 0052 79.4 7 2020 014 0054 79.7 7 2020 014 0056 79.5 7 2020 014 0058 79.6 7 2020 014 0100 79.2 7 2020 014 0102 78.8 7 2020 014 0104 79.0 7 2020 014 0106 79.0 7 2020 014 0108 78.9 7 2020 014 0110 79.0 7 2020 014 0112 78.8 7 2020 014 0114 78.8 7 2020 014 0116 79.1 7 2020 014 0118 78.8 7 2020 014 0120 78.8 7 2020 014 0122 78.8 7 2020 014 0124 78.9 7 2020 014 0126 78.6 7 2020 014 0128 78.8 7 2020 014 0130 78.4 7 2020 014 0132 78.1 7 2020 014 0134 77.8 7 2020 014 0136 77.9 7 2020 014 0138 77.8 7 2020 014 0140 78.2 7 2020 014 0142 78.6 7 2020 014 0144 78.7 7 2020 014 0146 78.2 7 2020 014 0148 78.2 7 2020 014 0150 77.8 7 2020 014 0152 78.3 7 2020 014 0154 78.4 7 2020 014 0156 78.5 7 2020 014 0158 78.2 7 2020 014 0200 78.8 7 2020 014 0202 78.7 7 2020 014 0204 78.4 7 2020 014 0206 78.7 7 2020 014 0208 78.6 7 2020 014 0210 78.6 7 2020 014 0212 78.5 7 2020 014 0214 78.7 7 2020 014 0216 78.4 7 2020 014 0218 78.9 7 2020 014 0220 79.1 7 2020 014 0222 79.2 7 2020 014 0224 79.3 7 2020 014 0226 79.4 7 2020 014 0228 79.3 7 2020 014 0230 79.4 7 2020 014 0232 79.5 7 2020 014 0234 79.4 7 2020 014 0236 79.4 7 2020 014 0238 79.5 7 2020 014 0240 79.3 7 2020 014 0242 79.5 7 2020 014 0244 79.6 7 2020 014 0246 79.7 7 2020 014 0248 79.6 7 2020 014 0250 79.6 7 2020 014 0252 79.7 7 2020 014 0254 79.9 7 2020 014 0256 80.1 7 2020 014 0258 80.2 7 2020 014 0300 80.0</b>"
   ]
  },
  {
   "cell_type": "code",
   "execution_count": 115,
   "metadata": {},
   "outputs": [
    {
     "data": {
      "text/html": [
       "<div>\n",
       "<style scoped>\n",
       "    .dataframe tbody tr th:only-of-type {\n",
       "        vertical-align: middle;\n",
       "    }\n",
       "\n",
       "    .dataframe tbody tr th {\n",
       "        vertical-align: top;\n",
       "    }\n",
       "\n",
       "    .dataframe thead th {\n",
       "        text-align: right;\n",
       "    }\n",
       "</style>\n",
       "<table border=\"1\" class=\"dataframe\">\n",
       "  <thead>\n",
       "    <tr style=\"text-align: right;\">\n",
       "      <th></th>\n",
       "      <th>ID</th>\n",
       "      <th>Year</th>\n",
       "      <th>DOY</th>\n",
       "      <th>UTC</th>\n",
       "      <th>RelHum</th>\n",
       "    </tr>\n",
       "  </thead>\n",
       "  <tbody>\n",
       "    <tr>\n",
       "      <th>0</th>\n",
       "      <td>7</td>\n",
       "      <td>2020</td>\n",
       "      <td>013</td>\n",
       "      <td>2354</td>\n",
       "      <td>77.8</td>\n",
       "    </tr>\n",
       "    <tr>\n",
       "      <th>1</th>\n",
       "      <td>7</td>\n",
       "      <td>2020</td>\n",
       "      <td>013</td>\n",
       "      <td>2356</td>\n",
       "      <td>77.2</td>\n",
       "    </tr>\n",
       "    <tr>\n",
       "      <th>2</th>\n",
       "      <td>7</td>\n",
       "      <td>2020</td>\n",
       "      <td>013</td>\n",
       "      <td>2358</td>\n",
       "      <td>77.2</td>\n",
       "    </tr>\n",
       "    <tr>\n",
       "      <th>3</th>\n",
       "      <td>7</td>\n",
       "      <td>2020</td>\n",
       "      <td>014</td>\n",
       "      <td>0000</td>\n",
       "      <td>77.7</td>\n",
       "    </tr>\n",
       "    <tr>\n",
       "      <th>4</th>\n",
       "      <td>7</td>\n",
       "      <td>2020</td>\n",
       "      <td>014</td>\n",
       "      <td>0002</td>\n",
       "      <td>77.6</td>\n",
       "    </tr>\n",
       "    <tr>\n",
       "      <th>...</th>\n",
       "      <td>...</td>\n",
       "      <td>...</td>\n",
       "      <td>...</td>\n",
       "      <td>...</td>\n",
       "      <td>...</td>\n",
       "    </tr>\n",
       "    <tr>\n",
       "      <th>89</th>\n",
       "      <td>7</td>\n",
       "      <td>2020</td>\n",
       "      <td>014</td>\n",
       "      <td>0252</td>\n",
       "      <td>79.7</td>\n",
       "    </tr>\n",
       "    <tr>\n",
       "      <th>90</th>\n",
       "      <td>7</td>\n",
       "      <td>2020</td>\n",
       "      <td>014</td>\n",
       "      <td>0254</td>\n",
       "      <td>79.9</td>\n",
       "    </tr>\n",
       "    <tr>\n",
       "      <th>91</th>\n",
       "      <td>7</td>\n",
       "      <td>2020</td>\n",
       "      <td>014</td>\n",
       "      <td>0256</td>\n",
       "      <td>80.1</td>\n",
       "    </tr>\n",
       "    <tr>\n",
       "      <th>92</th>\n",
       "      <td>7</td>\n",
       "      <td>2020</td>\n",
       "      <td>014</td>\n",
       "      <td>0258</td>\n",
       "      <td>80.2</td>\n",
       "    </tr>\n",
       "    <tr>\n",
       "      <th>93</th>\n",
       "      <td>7</td>\n",
       "      <td>2020</td>\n",
       "      <td>014</td>\n",
       "      <td>0300</td>\n",
       "      <td>80.0</td>\n",
       "    </tr>\n",
       "  </tbody>\n",
       "</table>\n",
       "<p>94 rows × 5 columns</p>\n",
       "</div>"
      ],
      "text/plain": [
       "   ID  Year  DOY   UTC RelHum\n",
       "0   7  2020  013  2354   77.8\n",
       "1   7  2020  013  2356   77.2\n",
       "2   7  2020  013  2358   77.2\n",
       "3   7  2020  014  0000   77.7\n",
       "4   7  2020  014  0002   77.6\n",
       ".. ..   ...  ...   ...    ...\n",
       "89  7  2020  014  0252   79.7\n",
       "90  7  2020  014  0254   79.9\n",
       "91  7  2020  014  0256   80.1\n",
       "92  7  2020  014  0258   80.2\n",
       "93  7  2020  014  0300   80.0\n",
       "\n",
       "[94 rows x 5 columns]"
      ]
     },
     "execution_count": 115,
     "metadata": {},
     "output_type": "execute_result"
    }
   ],
   "source": [
    "import re \n",
    "import pandas as pd \n",
    "\n",
    "text = re.split(r' ', 'ID Year DOY UTC RelHum 7 2020 013 2354 77.8 7 2020 013 2356 77.2 7 2020 013 2358 77.2 7 2020 014 0000 77.7 7 2020 014 0002 77.6 7 2020 014 0004 77.4 7 2020 014 0006 77.8 7 2020 014 0008 78.5 7 2020 014 0010 78.8 7 2020 014 0012 78.9 7 2020 014 0014 79.1 7 2020 014 0016 79.2 7 2020 014 0018 79.2 7 2020 014 0020 78.2 7 2020 014 0022 77.9 7 2020 014 0024 78.2 7 2020 014 0026 77.8 7 2020 014 0028 77.6 7 2020 014 0030 78.0 7 2020 014 0032 78.5 7 2020 014 0034 78.9 7 2020 014 0036 79.0 7 2020 014 0038 78.7 7 2020 014 0040 78.5 7 2020 014 0042 78.5 7 2020 014 0044 78.1 7 2020 014 0046 78.1 7 2020 014 0048 78.4 7 2020 014 0050 78.8 7 2020 014 0052 79.4 7 2020 014 0054 79.7 7 2020 014 0056 79.5 7 2020 014 0058 79.6 7 2020 014 0100 79.2 7 2020 014 0102 78.8 7 2020 014 0104 79.0 7 2020 014 0106 79.0 7 2020 014 0108 78.9 7 2020 014 0110 79.0 7 2020 014 0112 78.8 7 2020 014 0114 78.8 7 2020 014 0116 79.1 7 2020 014 0118 78.8 7 2020 014 0120 78.8 7 2020 014 0122 78.8 7 2020 014 0124 78.9 7 2020 014 0126 78.6 7 2020 014 0128 78.8 7 2020 014 0130 78.4 7 2020 014 0132 78.1 7 2020 014 0134 77.8 7 2020 014 0136 77.9 7 2020 014 0138 77.8 7 2020 014 0140 78.2 7 2020 014 0142 78.6 7 2020 014 0144 78.7 7 2020 014 0146 78.2 7 2020 014 0148 78.2 7 2020 014 0150 77.8 7 2020 014 0152 78.3 7 2020 014 0154 78.4 7 2020 014 0156 78.5 7 2020 014 0158 78.2 7 2020 014 0200 78.8 7 2020 014 0202 78.7 7 2020 014 0204 78.4 7 2020 014 0206 78.7 7 2020 014 0208 78.6 7 2020 014 0210 78.6 7 2020 014 0212 78.5 7 2020 014 0214 78.7 7 2020 014 0216 78.4 7 2020 014 0218 78.9 7 2020 014 0220 79.1 7 2020 014 0222 79.2 7 2020 014 0224 79.3 7 2020 014 0226 79.4 7 2020 014 0228 79.3 7 2020 014 0230 79.4 7 2020 014 0232 79.5 7 2020 014 0234 79.4 7 2020 014 0236 79.4 7 2020 014 0238 79.5 7 2020 014 0240 79.3 7 2020 014 0242 79.5 7 2020 014 0244 79.6 7 2020 014 0246 79.7 7 2020 014 0248 79.6 7 2020 014 0250 79.6 7 2020 014 0252 79.7 7 2020 014 0254 79.9 7 2020 014 0256 80.1 7 2020 014 0258 80.2 7 2020 014 0300 80.0')\n",
    "\n",
    "cols = text[0:5]\n",
    "cols_cnt=len(cols)\n",
    "idx = range(int((len(text) - len(cols)) / len(cols)))\n",
    "df = pd.DataFrame(columns = cols, index = idx)\n",
    "\n",
    "i = 0\n",
    "for j in range(cols_cnt, len(text), cols_cnt):\n",
    "    df.iloc[i, :] = text[j: j+cols_cnt]\n",
    "    i = i + 1\n",
    "    \n",
    "df"
   ]
  },
  {
   "cell_type": "markdown",
   "metadata": {},
   "source": [
    "### Question"
   ]
  },
  {
   "cell_type": "markdown",
   "metadata": {},
   "source": [
    "Create a dataframe of name, address, email and phone_number from the text below."
   ]
  },
  {
   "cell_type": "markdown",
   "metadata": {},
   "source": [
    "<b>Tim Hortons restaurants have stopped selling Beyond Meat products at its coffee and donut shops across two of Canada’s biggest provinces. The chain had been serving the Beyond Burger and a Beyond Meat breakfast sandwich made with the company’s imitation sausage products. After an initial launch starting in June at nearly 4,000 Canadian locations, the items were scaled back to the provinces of Ontario and British Columbia in September. “We introduced Beyond Meat as a limited time offer. We are always listening to our guests and testing new products that align to our core menu offerings. We may offer Beyond Meat again in the future,” Tim Hortons said in an e-mailed statement. Tim Hortons lives at 123, Nebraska St, New York, CA. His email is tim.hortons@gmail.com. His phone number is 123-456-7890. Pagliuca was quick to note Bain Capital’s acquired companies have grown revenue two times faster than S&P 500 components and have created 1.1 million more jobs since being bought by the private equity shop. Bain Capital lives at 4567, California Ave, Seattle, VA. His email is bain.capital@gmail.com. His phone number is 896-374-9365.</b>"
   ]
  },
  {
   "cell_type": "code",
   "execution_count": 2,
   "metadata": {
    "scrolled": true
   },
   "outputs": [
    {
     "data": {
      "text/plain": [
       "['Tim Hortons lives at 123, Nebraska St, New York, CA. His email is tim.hortons@gmail.com. His phone number is 123-456-7890',\n",
       " 'Bain Capital lives at 4567, California Ave, Seattle, VA. His email is bain.capital@gmail.com. His phone number is 896-374-9365']"
      ]
     },
     "execution_count": 2,
     "metadata": {},
     "output_type": "execute_result"
    }
   ],
   "source": [
    "import re \n",
    "information=re.findall(r'\\w+ \\w+ lives at .*?\\d{3}-\\d{3}-\\d{4}', 'Tim Hortons restaurants have stopped selling Beyond Meat products at its coffee and donut shops across two of Canada’s biggest provinces. The chain had been serving the Beyond Burger and a Beyond Meat breakfast sandwich made with the company’s imitation sausage products. After an initial launch starting in June at nearly 4,000 Canadian locations, the items were scaled back to the provinces of Ontario and British Columbia in September. “We introduced Beyond Meat as a limited time offer. We are always listening to our guests and testing new products that align to our core menu offerings. We may offer Beyond Meat again in the future,” Tim Hortons said in an e-mailed statement. Tim Hortons lives at 123, Nebraska St, New York, CA. His email is tim.hortons@gmail.com. His phone number is 123-456-7890. Pagliuca was quick to note Bain Capital’s acquired companies have grown revenue two times faster than S&P 500 components and have created 1.1 million more jobs since being bought by the private equity shop. Bain Capital lives at 4567, California Ave, Seattle, VA. His email is bain.capital@gmail.com. His phone number is 896-374-9365.')\n",
    "information_cnt=len(information)\n",
    "information"
   ]
  },
  {
   "cell_type": "code",
   "execution_count": 3,
   "metadata": {},
   "outputs": [
    {
     "name": "stdout",
     "output_type": "stream",
     "text": [
      "tim.hortons@gmail.com 123-456-7890\n",
      "bain.capital@gmail.com 896-374-9365\n"
     ]
    },
    {
     "data": {
      "text/html": [
       "<div>\n",
       "<style scoped>\n",
       "    .dataframe tbody tr th:only-of-type {\n",
       "        vertical-align: middle;\n",
       "    }\n",
       "\n",
       "    .dataframe tbody tr th {\n",
       "        vertical-align: top;\n",
       "    }\n",
       "\n",
       "    .dataframe thead th {\n",
       "        text-align: right;\n",
       "    }\n",
       "</style>\n",
       "<table border=\"1\" class=\"dataframe\">\n",
       "  <thead>\n",
       "    <tr style=\"text-align: right;\">\n",
       "      <th></th>\n",
       "      <th>Name</th>\n",
       "      <th>Address</th>\n",
       "      <th>Email</th>\n",
       "      <th>Phone</th>\n",
       "    </tr>\n",
       "  </thead>\n",
       "  <tbody>\n",
       "    <tr>\n",
       "      <th>0</th>\n",
       "      <td>Tim Hortons</td>\n",
       "      <td>123, Nebraska St, New York, CA</td>\n",
       "      <td>tim.hortons@gmail.com</td>\n",
       "      <td>123-456-7890</td>\n",
       "    </tr>\n",
       "    <tr>\n",
       "      <th>1</th>\n",
       "      <td>Bain Capital</td>\n",
       "      <td>4567, California Ave, Seattle, VA</td>\n",
       "      <td>bain.capital@gmail.com</td>\n",
       "      <td>896-374-9365</td>\n",
       "    </tr>\n",
       "  </tbody>\n",
       "</table>\n",
       "</div>"
      ],
      "text/plain": [
       "           Name                            Address                   Email  \\\n",
       "0   Tim Hortons     123, Nebraska St, New York, CA   tim.hortons@gmail.com   \n",
       "1  Bain Capital  4567, California Ave, Seattle, VA  bain.capital@gmail.com   \n",
       "\n",
       "          Phone  \n",
       "0  123-456-7890  \n",
       "1  896-374-9365  "
      ]
     },
     "execution_count": 3,
     "metadata": {},
     "output_type": "execute_result"
    }
   ],
   "source": [
    "import pandas as pd\n",
    "#cols=['Name', 'Address', 'House number', 'Street', 'City', 'State', 'Email', 'Phone'] # (8)\n",
    "cols=['Name', 'Address', 'Email', 'Phone'] # (8)\n",
    "cols_cnt=len(cols)\n",
    "idx = range(information_cnt)\n",
    "df = pd.DataFrame(columns = cols, index = idx)\n",
    "\n",
    "for i in range(0,len(information)):\n",
    "    Name=information[i].split(' lives at ')[0]\n",
    "    Rest=information[i].split(' lives at ')[1]\n",
    "    \n",
    "    Address=re.findall('\\d+, \\w+ [\\w+]+,[ \\w+]+, [A-Z][A-Z]', Rest.split('. ')[0])[0]\n",
    "    #House_number=Address.split(', ')[0]\n",
    "    #Street=Address.split(', ')[1]\n",
    "    #City=Address.split(', ')[2]\n",
    "    #State=Address.split(', ')[3]\n",
    "    #print(Name, Address, House_number, Street, City, State, end=' ')\n",
    "    \n",
    "    Email=re.findall('\\w*[.]*\\w+@\\w+[.]\\w{2,4}', Rest.split('. ')[1])[0]\n",
    "    Phone=re.findall('\\d{3}-\\d{3}-\\d{4}', Rest.split('. ')[2])[0]\n",
    "    print(Email, Phone)\n",
    "    \n",
    "    #df.iloc[i,:]=[Name, Address, House_number, Street, City, State, Email, Phone]\n",
    "    df.iloc[i,:]=[Name, Address, Email, Phone]\n",
    "\n",
    "df"
   ]
  },
  {
   "cell_type": "markdown",
   "metadata": {},
   "source": [
    "The dataframe should look like below."
   ]
  },
  {
   "cell_type": "markdown",
   "metadata": {},
   "source": [
    "![](hw-sample-df.png)"
   ]
  }
 ],
 "metadata": {
  "kernelspec": {
   "display_name": "Python 3",
   "language": "python",
   "name": "python3"
  },
  "language_info": {
   "codemirror_mode": {
    "name": "ipython",
    "version": 3
   },
   "file_extension": ".py",
   "mimetype": "text/x-python",
   "name": "python",
   "nbconvert_exporter": "python",
   "pygments_lexer": "ipython3",
   "version": "3.7.6"
  }
 },
 "nbformat": 4,
 "nbformat_minor": 1
}
